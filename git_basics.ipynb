{
 "cells": [
  {
   "cell_type": "markdown",
   "metadata": {
    "slideshow": {
     "slide_type": "slide"
    }
   },
   "source": [
    "# Git Basics\n",
    "## A quick primer on source control."
   ]
  },
  {
   "cell_type": "markdown",
   "metadata": {
    "slideshow": {
     "slide_type": "slide"
    }
   },
   "source": [
    "# Contents\n",
    "* Intro\n",
    "* Getting started: Looking at some code\n",
    "* Making changes\n",
    "* Sharing your changes"
   ]
  },
  {
   "cell_type": "markdown",
   "metadata": {
    "slideshow": {
     "slide_type": "slide"
    }
   },
   "source": [
    "# Intro :  **Why bother with SCM?**\n",
    "* Once central place to keep all our source code.\n",
    "* Allows multiple people to be working in the same area of the code without trampling over each other!\n",
    "* Provides:\n",
    "    * Branching: \n",
    "        _Logicaly seperate off changes (e.g. keep experimental features away from production code)_\n",
    "    * Tagging: \n",
    "        _Relate snapshot of code at one moment to a version being used by a customer_"
   ]
  },
  {
   "cell_type": "markdown",
   "metadata": {
    "slideshow": {
     "slide_type": "slide"
    }
   },
   "source": [
    "# **What is Git? Why use it?**\n",
    "[Git](https://git-scm.com/) is a lightweight opensource _distributed_ source control management system.\n",
    "* Works at the highest level with **repositories**\n",
    "    * Contains entire history of code base since repo's creation.\n",
    "    * Provides redundancy backups (every user with a checkout is essentially a backup of the repository)"
   ]
  },
  {
   "cell_type": "markdown",
   "metadata": {
    "slideshow": {
     "slide_type": "slide"
    }
   },
   "source": [
    "# `git config` - *Configure how git behaves*\n",
    "* Configs are kept in ~/.gitconfig\n",
    "* Can be configured with git directly\n",
    "\n",
    "```\n",
    "$ git config --global user.name  \"Matt Mulhern\"\n",
    "$ git config --global user.email \"mattmulhern01@gmail.com\"\n",
    "$ git config --global core.editor vim\n",
    "$ git config --global color.ui auto\n",
    "\n",
    "$ git config -l\n",
    "user.name=Matt Mulhern\n",
    "user.email=mattmulhern01@gmail.com\n",
    "core.editor=vim\n",
    "color.ui=auto\n",
    "```"
   ]
  },
  {
   "cell_type": "markdown",
   "metadata": {
    "slideshow": {
     "slide_type": "slide"
    }
   },
   "source": [
    "# `git init` - *Create a fresh repo.*\n",
    "Used to create a new repository in the current directory\n",
    "\n",
    "```\n",
    "$ mkdir -p new_repo\n",
    "$ cd new_repo\n",
    "$ ls -a\n",
    ".  ..\n",
    "$ git init\n",
    "Initialized empty Git repository in /home/mmulhern/new_repo/.git/\n",
    "$ ls -a\n",
    ".    ..   .git\n",
    "```"
   ]
  },
  {
   "cell_type": "markdown",
   "metadata": {
    "slideshow": {
     "slide_type": "slide"
    }
   },
   "source": [
    "# `git clone` - *Copy an existing repo.*\n",
    "Used to take a copy of a repository from some centralised location (our git server).\n",
    "```bash\n",
    "$ git clone git@github.com:MattMulhern/git.git\n",
    "Cloning into 'git'...\n",
    "remote: Enumerating objects: 3, done.\n",
    "remote: Counting objects: 100% (3/3), done.\n",
    "remote: Compressing objects: 100% (2/2), done.\n",
    "Receiving objects: 100% (3/3), 4.32 KiB | 4.32 MiB/s, done.\n",
    "remote: Total 3 (delta 0), reused 3 (delta 0), pack-reused 0\n",
    "$ cd git\n",
    "$ ls\n",
    "git_basics.ipynb\n",
    "\n",
    "```"
   ]
  },
  {
   "cell_type": "markdown",
   "metadata": {
    "slideshow": {
     "slide_type": "slide"
    }
   },
   "source": [
    "# The **repository** and the **working copy**\n",
    "* The copy of all the files in the repository you've checked out and can see/edit are known as the **working copy**\n",
    "```bash\n",
    "$ ls\n",
    "git_basics.ipynb\n",
    "```\n",
    "\n",
    "* Git keeps *another copy* (in binary format) of every version/change of every file.\n",
    "```bash\n",
    "$ ls .git/\n",
    "HEAD        description index       logs        packed-refs\n",
    "config      hooks       info        objects     refs\n",
    "```\n",
    "* You shouldnt ever need to edit anything in the .git folder manually, its for git's internal use only.\n",
    "* When you do `git status` or `git diff` git is comparing the two.\n",
    "* Dont *ever* delete the git folder unless you never want to use git in that folder again."
   ]
  },
  {
   "cell_type": "markdown",
   "metadata": {
    "slideshow": {
     "slide_type": "slide"
    }
   },
   "source": [
    "# `git log` - *Looking at the history.*\n",
    "Used to browse the history of the repository\n",
    "```\n",
    "$ git log\n",
    "commit be3dc7574fd2b709f4002f8b48be0edd1dad1fd1 (HEAD -> master, origin/master, origin/HEAD)\n",
    "Author: Matt Mulhern <mmulhern@proofpoint.com>\n",
    "Date:   Mon Apr 15 11:04:25 2019 +0100\n",
    "\n",
    "    First draft of beginner's slides\n",
    "\n",
    "    Signed-off-by: Matt Mulhern <mmulhern@proofpoint.com>\n",
    "```\n",
    "### Useful optional flags:\n",
    "`git log -n X`  Only show last X changes in history.\n",
    "\n",
    "`git log -p`    Show change diff as well as commit message.\n",
    "\n"
   ]
  },
  {
   "cell_type": "markdown",
   "metadata": {
    "slideshow": {
     "slide_type": "slide"
    }
   },
   "source": [
    "# `git status` - *Check what files have changed.*\n",
    "Used to check status of entire repository.\n",
    "```bash\n",
    "$ git status\n",
    "On branch master\n",
    "Your branch is up to date with 'origin/master'.\n",
    "\n",
    "nothing to commit, working tree clean\n",
    "```"
   ]
  },
  {
   "cell_type": "markdown",
   "metadata": {
    "slideshow": {
     "slide_type": "slide"
    }
   },
   "source": [
    "```bash\n",
    "$ echo \"this is a new file\" > newfile.txt\n",
    "$ git status\n",
    "On branch master\n",
    "Your branch is up to date with 'origin/master'.\n",
    "\n",
    "Untracked files:\n",
    "  (use \"git add <file>...\" to include in what will be committed)\n",
    "\n",
    "\tnewfile.txt\n",
    "\n",
    "nothing added to commit but untracked files present (use \"git add\" to track)\n",
    "```"
   ]
  },
  {
   "cell_type": "markdown",
   "metadata": {
    "slideshow": {
     "slide_type": "slide"
    }
   },
   "source": [
    "```bash\n",
    "$ echo \"this is a change\" >> git_basics.ipynb\n",
    "$ git status\n",
    "On branch master\n",
    "Your branch is up to date with 'origin/master'.\n",
    "\n",
    "Changes not staged for commit:\n",
    "  (use \"git add <file>...\" to update what will be committed)\n",
    "  (use \"git checkout -- <file>...\" to discard changes in working directory)\n",
    "\n",
    "\tmodified:   git_basics.ipynb\n",
    "\n",
    "Untracked files:\n",
    "  (use \"git add <file>...\" to include in what will be committed)\n",
    "\n",
    "\tnewfile.txt\n",
    "\n",
    "no changes added to commit (use \"git add\" and/or \"git commit -a\")\n",
    "\n",
    "```"
   ]
  },
  {
   "cell_type": "markdown",
   "metadata": {
    "slideshow": {
     "slide_type": "slide"
    }
   },
   "source": [
    "# `git diff`- *Check file changes in detail.*\n",
    "The file must have already been committed at least once, so that git has a version of it to compare to!\n",
    "\n",
    "```bash\n",
    "$ git diff\n",
    "diff --git a/git_basics.ipynb b/git_basics.ipynb\n",
    "index 9d792cb..6715e09 100644\n",
    "--- a/git_basics.ipynb\n",
    "+++ b/git_basics.ipynb\n",
    "@@ -516,3 +516,4 @@\n",
    "  \"nbformat\": 4,\n",
    "  \"nbformat_minor\": 2\n",
    " }\n",
    "+this is a change\n",
    "```"
   ]
  },
  {
   "cell_type": "markdown",
   "metadata": {
    "slideshow": {
     "slide_type": "slide"
    }
   },
   "source": [
    "# `git checkout` - *Undo changes to a file.*\n",
    "```bash\n",
    "$ git checkout git_basics.ipynb\n",
    "$ git status\n",
    "On branch master\n",
    "Your branch is up to date with 'origin/master'.\n",
    "\n",
    "Untracked files:\n",
    "  (use \"git add <file>...\" to include in what will be committed)\n",
    "\n",
    "\tnewfile.txt\n",
    "\n",
    "nothing added to commit but untracked files present (use \"git add\" to track)\n",
    "$ git diff\n",
    "```"
   ]
  },
  {
   "cell_type": "markdown",
   "metadata": {
    "slideshow": {
     "slide_type": "slide"
    }
   },
   "source": [
    "# `git reset` - *Undo changes to all files.*\n",
    "`git reset [--hard] [COMMIT_REF]`\n",
    "```bash\n",
    "$ echo \"this is a change\" >> git_basics.ipynb\n",
    "$ git diff\n",
    "diff --git a/git_basics.ipynb b/git_basics.ipynb\n",
    "index 9d792cb..6715e09 100644\n",
    "--- a/git_basics.ipynb\n",
    "+++ b/git_basics.ipynb\n",
    "@@ -516,3 +516,4 @@\n",
    "  \"nbformat\": 4,\n",
    "  \"nbformat_minor\": 2\n",
    " }\n",
    "+this is a change\n",
    "$ git reset --hard origin/master\n",
    "HEAD is now at be3dc75 First draft of beginner's slides\n",
    "$ git diff\n",
    "```"
   ]
  },
  {
   "cell_type": "markdown",
   "metadata": {
    "slideshow": {
     "slide_type": "slide"
    }
   },
   "source": [
    "# **git add** - *Stage changes for committing.*\n",
    "Essentially telling git \"I want you to track this file\"\n",
    "* Add a new file to the repository.\n",
    "* Add your current changes to an already tracked file.\n",
    "\n",
    "```bash\n",
    "$ git status\n",
    "On branch master\n",
    "Your branch is up to date with 'origin/master'.\n",
    "\n",
    "Untracked files:\n",
    "  (use \"git add <file>...\" to include in what will be committed)\n",
    "\n",
    "\tnewfile.txt\n",
    "\n",
    "nothing added to commit but untracked files present (use \"git add\" to track)\n",
    "$ git add newfile.txt\n",
    "$ git status\n",
    "On branch master\n",
    "Your branch is up to date with 'origin/master'.\n",
    "\n",
    "Changes to be committed:\n",
    "  (use \"git reset HEAD <file>...\" to unstage)\n",
    "\n",
    "\tnew file:   newfile.txt\n",
    "```"
   ]
  },
  {
   "cell_type": "markdown",
   "metadata": {
    "slideshow": {
     "slide_type": "slide"
    }
   },
   "source": [
    "# `git commit`- *Finalise your changes.*\n",
    "Bundles together all diffs/new files that you have staged with `git add` along with a commit message.\n",
    "```bash\n",
    "$ git status\n",
    "On branch master\n",
    "Your branch is up to date with 'origin/master'.\n",
    "\n",
    "Changes to be committed:\n",
    "  (use \"git reset HEAD <file>...\" to unstage)\n",
    "\n",
    "\tnew file:   newfile.txt\n",
    "\n",
    "$ git commit -m \"Adding newfile\"\n",
    "[master a943e8b] Adding newfile\n",
    " 1 file changed, 1 insertion(+)\n",
    " create mode 100644 newfile.txt\n",
    "$ git status\n",
    "On branch master\n",
    "Your branch is ahead of 'origin/master' by 1 commit.\n",
    "  (use \"git push\" to publish your local commits)\n",
    "\n",
    "nothing to commit, working tree clean\n",
    "```\n",
    "\n",
    "**Now try looking at the history of your repo now with `git log`**"
   ]
  },
  {
   "cell_type": "markdown",
   "metadata": {
    "slideshow": {
     "slide_type": "slide"
    }
   },
   "source": [
    "# Best Practices on Commit Messages\n",
    "* Each commit should represent once atomic change.\n",
    "    * If your commit message says \"changed A and also changed B\" you're using Git wrong!\n",
    "    * Avoids merge conflicts (covered in advanced session).\n",
    "    * Makes commit messages meaningful.\n",
    "* Sign-off lines are useful (`git commit -s`):\n",
    "    * Standard practice in opensource projects where you might be signing off someone else's work!\n",
    "* Keep your messages brief!\n",
    "    * One line description of the change.\n",
    "    * If youre working on an issue, include the issue reference! e.g.\n",
    "```\n",
    "[DOG-123] Adding my name to the list of attendees.\n",
    "```"
   ]
  },
  {
   "cell_type": "markdown",
   "metadata": {
    "slideshow": {
     "slide_type": "slide"
    }
   },
   "source": [
    "# Sharing your changes\n",
    "So far we've looked at just locally making changes and putting together a commit.\n",
    "\n",
    "As mentioned before, git is a destributed system, so each copy youve taken has knowledge of where it came from!\n",
    "# `git remote -v`\n",
    "* git remotes are essentially url's which are compared to when you pull/push changes.\n",
    "* One remote created by default `origin` points at where you cloned the repository from.\n",
    "```bash\n",
    "$ git remote -v\n",
    "origin\tgit@github.com:MattMulhern/git.git (fetch)\n",
    "origin\tgit@github.com:MattMulhern/git.git (push)\n",
    "```\n",
    "\n",
    "Note that a pair of urls is stored, one for pushing changes and one for fetching them "
   ]
  },
  {
   "cell_type": "markdown",
   "metadata": {
    "slideshow": {
     "slide_type": "slide"
    }
   },
   "source": [
    "# `git fetch` -- Update your repository information.\n",
    "* This updates only the contents of your .git folder.\n",
    "* No source code is changed.\n",
    "* 9/10 times youll want to do a `git pull` instead to merge in new changes (see next)\n",
    "```bash\n",
    "$ git fetch\n",
    "remote: Enumerating objects: 5, done.\n",
    "remote: Counting objects: 100% (5/5), done.\n",
    "remote: Compressing objects: 100% (1/1), done.\n",
    "remote: Total 3 (delta 1), reused 3 (delta 1), pack-reused 0\n",
    "Unpacking objects: 100% (3/3), done.\n",
    "From github.com:BelfastTechTraining/git\n",
    "   be3dc75..ae83161  master     -> origin/master\n",
    "```"
   ]
  },
  {
   "cell_type": "markdown",
   "metadata": {
    "slideshow": {
     "slide_type": "slide"
    }
   },
   "source": [
    "# `git pull` - *Incorporate latest changes from others.*\n",
    "* Should be done as often as possible, at the very minimum before starting work on a file.\n",
    "* Pulls down latest copy of the .git folder contents and appplies any changes.\n",
    "* Since this is updating your **working copy** here, you may hit merge conflicts! (see advanced section).\n",
    "    * This may be discouraging, but actually means that you haven't been pulling often enough!\n",
    "* `git pull --rebase` is your friend, do it as often as you can!\n",
    "    * Lowers chances of hitting problems later down the line, keeps the codebase youre working on as up to date as possible.\n",
    "```bash\n",
    "$ git pull\n",
    "remote: Enumerating objects: 5, done.\n",
    "remote: Counting objects: 100% (5/5), done.\n",
    "remote: Compressing objects: 100% (1/1), done.\n",
    "remote: Total 3 (delta 1), reused 3 (delta 1), pack-reused 0\n",
    "Unpacking objects: 100% (3/3), done.\n",
    "From github.com:BelfastTechTraining/git\n",
    "   ae83161..3f171ea  master     -> origin/master\n",
    "Updating be3dc75..3f171ea\n",
    "Fast-forward\n",
    " git_basics.ipynb | 287 +++++++++++++++++++++++++++++++++++++++++++++++++++++++--------------------------------------\n",
    "```"
   ]
  },
  {
   "cell_type": "markdown",
   "metadata": {
    "slideshow": {
     "slide_type": "slide"
    }
   },
   "source": [
    "# `git push` - *Adding your changes to the remote server.*\n",
    "* Up until now everything has been written to your local .git folder, now we are going to share your changes with everyone!\n",
    "* Good workflow practice is to do a `git pull --rebase` before trying this!\n",
    "\n",
    "```bash\n",
    "$ git status\n",
    "On branch master\n",
    "Your branch is ahead of 'origin/master' by 1 commit.\n",
    "  (use \"git push\" to publish your local commits)\n",
    "\n",
    "nothing to commit, working tree clean\n",
    "\n",
    "$ git pull --rebase\n",
    "Current branch master is up to date.\n",
    "\n",
    "$ git push\n",
    "Enumerating objects: 4, done.\n",
    "Counting objects: 100% (4/4), done.\n",
    "Delta compression using up to 12 threads\n",
    "Compressing objects: 100% (2/2), done.\n",
    "Writing objects: 100% (3/3), 309 bytes | 154.00 KiB/s, done.\n",
    "Total 3 (delta 0), reused 0 (delta 0)\n",
    "To github.com:MattMulhern/git.git\n",
    "   be3dc75..a943e8b  master -> master\n",
    " \n",
    "$ git status\n",
    "On branch master\n",
    "Your branch is up to date with 'origin/master'.\n",
    "\n",
    "nothing to commit, working tree clean\n",
    "```"
   ]
  },
  {
   "cell_type": "code",
   "execution_count": null,
   "metadata": {},
   "outputs": [],
   "source": []
  }
 ],
 "metadata": {
  "celltoolbar": "Slideshow",
  "kernelspec": {
   "display_name": "Python 3",
   "language": "python",
   "name": "python3"
  },
  "language_info": {
   "codemirror_mode": {
    "name": "ipython",
    "version": 3
   },
   "file_extension": ".py",
   "mimetype": "text/x-python",
   "name": "python",
   "nbconvert_exporter": "python",
   "pygments_lexer": "ipython3",
   "version": "3.7.2"
  }
 },
 "nbformat": 4,
 "nbformat_minor": 2
}
